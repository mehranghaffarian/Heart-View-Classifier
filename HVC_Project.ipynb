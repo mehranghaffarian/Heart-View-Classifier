{
  "cells": [
    {
      "cell_type": "markdown",
      "source": [
        "#Draft\n"
      ],
      "metadata": {
        "id": "ttkzlIQXYjEU"
      }
    },
    {
      "cell_type": "code",
      "execution_count": null,
      "metadata": {
        "id": "9rQCLNIByzOk",
        "colab": {
          "base_uri": "https://localhost:8080/",
          "height": 210,
          "referenced_widgets": [
            "e00374306e5f4062ba1676f193c18101",
            "818f2ef5354b410e9dd6e0f4d859444d",
            "ac3038c8f00b4b4281a05957ca541eac",
            "921735cfa1984a8396224def7677732b",
            "2fb52b167e504906ac5ff0dbc9ae647e",
            "b96cfdad73144e558f3a2b025b4487e6",
            "17906f5ad3574c9da4e9d0fbee19bd12",
            "3501b75fc738479a8ea5c00b7bdb5b80",
            "8da4539d1b6747c7abdaf3f3177bdf5a",
            "a649e8ada3744d959e328da922cc5b57",
            "fca2808a1f7b433ca14b2a04abcfc5d0",
            "515414ada0494a19b891a5f397222688",
            "098f8ee3b50542d58fac8f756be6ad31",
            "d9912ff1eb494a39b66cb12b4569803d",
            "920ee6e8523941438eb7355762558063",
            "ecc17fb989b34332a419af8d4ee4f87b",
            "ca09c4e6625647b28fb2f1faafd38734",
            "63de29499a2a4af1988dbd412c588404",
            "6446605c814c4333a904ef9818e0771b",
            "e577972953514eb486735683f17de8f1",
            "c25ab87d5d134060b35af1cc1e56cd5d",
            "7832ee015ac54373b02d16515039abdd"
          ]
        },
        "outputId": "2d55d041-9a52-42a4-e0ff-ed0c803ab0c0"
      },
      "outputs": [
        {
          "output_type": "stream",
          "name": "stderr",
          "text": [
            "/usr/local/lib/python3.11/dist-packages/huggingface_hub/utils/_auth.py:94: UserWarning: \n",
            "The secret `HF_TOKEN` does not exist in your Colab secrets.\n",
            "To authenticate with the Hugging Face Hub, create a token in your settings tab (https://huggingface.co/settings/tokens), set it as secret in your Google Colab and restart your session.\n",
            "You will be able to reuse this secret in all of your notebooks.\n",
            "Please note that authentication is recommended but still optional to access public models or datasets.\n",
            "  warnings.warn(\n"
          ]
        },
        {
          "output_type": "display_data",
          "data": {
            "text/plain": [
              "metadata.csv: 0.00B [00:00, ?B/s]"
            ],
            "application/vnd.jupyter.widget-view+json": {
              "version_major": 2,
              "version_minor": 0,
              "model_id": "e00374306e5f4062ba1676f193c18101"
            }
          },
          "metadata": {}
        },
        {
          "output_type": "display_data",
          "data": {
            "text/plain": [
              "Generating train split:   0%|          | 0/22183 [00:00<?, ? examples/s]"
            ],
            "application/vnd.jupyter.widget-view+json": {
              "version_major": 2,
              "version_minor": 0,
              "model_id": "515414ada0494a19b891a5f397222688"
            }
          },
          "metadata": {}
        }
      ],
      "source": [
        "from datasets import load_dataset\n",
        "\n",
        "ds = load_dataset(\"phantatbach/TMed\")"
      ]
    },
    {
      "cell_type": "code",
      "execution_count": null,
      "metadata": {
        "colab": {
          "base_uri": "https://localhost:8080/"
        },
        "id": "RSIsCuZHzhFV",
        "outputId": "40d3e412-fc0d-4851-f7d7-ef09a3bdfaeb"
      },
      "outputs": [
        {
          "output_type": "stream",
          "name": "stdout",
          "text": [
            "DatasetDict({\n",
            "    train: Dataset({\n",
            "        features: ['file_name', 'transcription'],\n",
            "        num_rows: 22183\n",
            "    })\n",
            "})\n",
            "{'file_name': Value('string'), 'transcription': Value('string')}\n",
            "{'file_name': 'data/train/225033.0000_225800.0000.ogg', 'transcription': 'So insensitive'}\n"
          ]
        }
      ],
      "source": [
        "print(ds)\n",
        "print(ds[\"train\"].features)\n",
        "print(ds['train'][0])"
      ]
    },
    {
      "cell_type": "code",
      "execution_count": null,
      "metadata": {
        "colab": {
          "base_uri": "https://localhost:8080/"
        },
        "id": "ODjLqs2F1cnG",
        "outputId": "469154d6-eead-4420-9b3d-c85fa4ab1607"
      },
      "outputs": [
        {
          "output_type": "stream",
          "name": "stdout",
          "text": [
            "Path to dataset files: /kaggle/input/cardiacudc-dataset\n"
          ]
        }
      ],
      "source": [
        "import kagglehub\n",
        "\n",
        "# Download latest version\n",
        "path = kagglehub.dataset_download(\"xiaoweixumedicalai/cardiacudc-dataset\")\n",
        "\n",
        "print(\"Path to dataset files:\", path)"
      ]
    },
    {
      "cell_type": "code",
      "execution_count": null,
      "metadata": {
        "colab": {
          "base_uri": "https://localhost:8080/"
        },
        "id": "b2_Q0TEf3AvE",
        "outputId": "3bb996bd-301e-4834-ae0d-ecb45f2a193b"
      },
      "outputs": [
        {
          "output_type": "stream",
          "name": "stdout",
          "text": [
            "Path to dataset files: /kaggle/input/camus-human-heart-data\n"
          ]
        }
      ],
      "source": [
        "import kagglehub\n",
        "\n",
        "# Download latest version\n",
        "path = kagglehub.dataset_download(\"shoybhasan/camus-human-heart-data\")\n",
        "\n",
        "print(\"Path to dataset files:\", path)"
      ]
    },
    {
      "cell_type": "code",
      "source": [
        "!file /kaggle/input/camus-human-heart-data/download\n",
        "!ls\n",
        "!mv download camus.zip\n",
        "!unzip camus.zip -d camus_dataset\n"
      ],
      "metadata": {
        "colab": {
          "base_uri": "https://localhost:8080/"
        },
        "id": "J-5nP_zysxMD",
        "outputId": "ec026667-3e82-483b-95ea-18271fc58a83"
      },
      "execution_count": null,
      "outputs": [
        {
          "output_type": "stream",
          "name": "stdout",
          "text": [
            "/kaggle/input/camus-human-heart-data/download: Zip archive data, at least v2.0 to extract, compression method=store\n",
            "sample_data\n",
            "mv: cannot stat 'download': No such file or directory\n",
            "unzip:  cannot find or open camus.zip, camus.zip.zip or camus.zip.ZIP.\n"
          ]
        }
      ]
    },
    {
      "cell_type": "code",
      "execution_count": null,
      "metadata": {
        "colab": {
          "base_uri": "https://localhost:8080/"
        },
        "id": "uCZ2Zzbo4TmW",
        "outputId": "1a88fb64-0d3a-4331-856e-7b89a8ddded2"
      },
      "outputs": [
        {
          "output_type": "stream",
          "name": "stdout",
          "text": [
            "  adding: root/.cache/kagglehub/datasets/ (stored 0%)\n",
            "  adding: root/.cache/kagglehub/datasets/xiaoweixumedicalai/ (stored 0%)\n",
            "  adding: root/.cache/kagglehub/datasets/xiaoweixumedicalai/cardiacudc-dataset/ (stored 0%)\n",
            "  adding: root/.cache/kagglehub/datasets/xiaoweixumedicalai/cardiacudc-dataset/versions/ (stored 0%)\n",
            "  adding: root/.cache/kagglehub/datasets/xiaoweixumedicalai/cardiacudc-dataset/versions/1/ (stored 0%)\n",
            "  adding: root/.cache/kagglehub/datasets/xiaoweixumedicalai/cardiacudc-dataset/versions/1/cardiacUDC_dataset.z03 (deflated 0%)\n",
            "  adding: root/.cache/kagglehub/datasets/xiaoweixumedicalai/cardiacudc-dataset/versions/1/cardiacUDC_dataset.z05 (deflated 0%)\n",
            "  adding: root/.cache/kagglehub/datasets/xiaoweixumedicalai/cardiacudc-dataset/versions/1/cardiacUDC_dataset.z02 (deflated 0%)\n",
            "  adding: root/.cache/kagglehub/datasets/xiaoweixumedicalai/cardiacudc-dataset/versions/1/cardiacUDC_dataset.change2zip (deflated 0%)\n",
            "  adding: root/.cache/kagglehub/datasets/xiaoweixumedicalai/cardiacudc-dataset/versions/1/cardiacUDC_dataset.z01 (deflated 0%)\n",
            "  adding: root/.cache/kagglehub/datasets/xiaoweixumedicalai/cardiacudc-dataset/versions/1/cardiacUDC_dataset.z04 (deflated 0%)\n",
            "  adding: root/.cache/kagglehub/datasets/xiaoweixumedicalai/cardiacudc-dataset/versions/1/cardiacUDC_dataset.z06 (deflated 0%)\n",
            "  adding: root/.cache/kagglehub/datasets/xiaoweixumedicalai/cardiacudc-dataset/1.complete (stored 0%)\n",
            "  adding: root/.cache/kagglehub/datasets/shoybhasan/ (stored 0%)\n",
            "  adding: root/.cache/kagglehub/datasets/shoybhasan/camus-human-heart-data/ (stored 0%)\n",
            "  adding: root/.cache/kagglehub/datasets/shoybhasan/camus-human-heart-data/versions/ (stored 0%)\n",
            "  adding: root/.cache/kagglehub/datasets/shoybhasan/camus-human-heart-data/versions/3/ (stored 0%)\n",
            "  adding: root/.cache/kagglehub/datasets/shoybhasan/camus-human-heart-data/versions/3/download (deflated 2%)\n",
            "  adding: root/.cache/kagglehub/datasets/shoybhasan/camus-human-heart-data/3.complete (stored 0%)\n"
          ]
        }
      ],
      "source": [
        "!zip -r output_filename.zip /root/.cache/kagglehub/datasets"
      ]
    },
    {
      "cell_type": "code",
      "source": [
        "from google.colab import drive\n",
        "drive.mount('/content/drive')\n",
        "\n",
        "!cp output_filename.zip /content/drive/MyDrive/\n"
      ],
      "metadata": {
        "colab": {
          "base_uri": "https://localhost:8080/"
        },
        "id": "nhMVJgESWQhz",
        "outputId": "91f4e9fa-8144-4565-e612-5ef483995a22"
      },
      "execution_count": null,
      "outputs": [
        {
          "output_type": "stream",
          "name": "stdout",
          "text": [
            "Mounted at /content/drive\n"
          ]
        }
      ]
    },
    {
      "cell_type": "code",
      "source": [
        "import urllib.parse\n",
        "import IPython.display as display\n",
        "\n",
        "file_path = '/content/output_filename.zip'\n",
        "file_name = file_path.split('/')[-1]\n",
        "\n",
        "# Encode the path for the link\n",
        "encoded_path = urllib.parse.quote(file_path)\n",
        "\n",
        "# This is the actual temporary download URL Colab uses\n",
        "url = f'/download/{encoded_path}'\n",
        "\n",
        "# Show it as a clickable link\n",
        "display.HTML(f'<a href=\"{url}\" target=\"_blank\">Click here for direct download</a>')\n"
      ],
      "metadata": {
        "colab": {
          "base_uri": "https://localhost:8080/",
          "height": 34
        },
        "id": "T72zonbket7E",
        "outputId": "0e95c1ad-f825-49a0-f7d6-41d7e63cd7c2"
      },
      "execution_count": null,
      "outputs": [
        {
          "output_type": "execute_result",
          "data": {
            "text/plain": [
              "<IPython.core.display.HTML object>"
            ],
            "text/html": [
              "<a href=\"/download//content/output_filename.zip\" target=\"_blank\">Click here for direct download</a>"
            ]
          },
          "metadata": {},
          "execution_count": 10
        }
      ]
    },
    {
      "cell_type": "code",
      "source": [
        "!wget -r -N -c -np --user mehran8 --ask-password https://physionet.org/files/mimic-iv-echo/0.1/\n"
      ],
      "metadata": {
        "colab": {
          "base_uri": "https://localhost:8080/"
        },
        "id": "gYQ2zdbMmtow",
        "outputId": "297cd86e-7b9d-491e-cea8-33af0555591b"
      },
      "execution_count": null,
      "outputs": [
        {
          "output_type": "stream",
          "name": "stdout",
          "text": [
            "Password for user ‘mehran8’: \n",
            "--2025-08-16 11:21:27--  https://physionet.org/files/mimic-iv-echo/0.1/\n",
            "Resolving physionet.org (physionet.org)... 18.18.42.54\n",
            "Connecting to physionet.org (physionet.org)|18.18.42.54|:443... connected.\n",
            "HTTP request sent, awaiting response... 401 Unauthorized\n",
            "Authentication selected: Basic realm=\"PhysioNet\", charset=\"UTF-8\"\n",
            "Reusing existing connection to physionet.org:443.\n",
            "HTTP request sent, awaiting response... 403 Forbidden\n",
            "2025-08-16 11:21:27 ERROR 403: Forbidden.\n",
            "\n"
          ]
        }
      ]
    },
    {
      "cell_type": "markdown",
      "source": [
        "# HVC"
      ],
      "metadata": {
        "id": "t8JlwHKLYnL8"
      }
    },
    {
      "cell_type": "markdown",
      "source": [
        "Downloading the data"
      ],
      "metadata": {
        "id": "dp_pXNAUda0y"
      }
    },
    {
      "cell_type": "code",
      "source": [
        "import requests\n",
        "import zipfile\n",
        "import os\n",
        "\n",
        "def download_file(url, extract_to=\".\"):\n",
        "    filename = url.split(\"/\")[-1]  # get filename from URL\n",
        "\n",
        "    print(f\"Downloading {filename}...\")\n",
        "    response = requests.get(url)\n",
        "    response.raise_for_status()  # ensure download was successful\n",
        "\n",
        "    # Save the file\n",
        "    with open(filename, \"wb\") as f:\n",
        "        f.write(response.content)\n",
        "\n",
        "    # If it's a ZIP, extract it\n",
        "    if filename.endswith(\".zip\"):\n",
        "        print(f\"Extracting {filename}...\")\n",
        "        with zipfile.ZipFile(filename, \"r\") as zip_ref:\n",
        "            zip_ref.extractall(extract_to)\n",
        "        print(f\"Extracted to {extract_to}\")\n",
        "    else:\n",
        "        print(f\"Saved {filename}\")\n",
        "\n",
        "# Example usage (replace with your actual URLs)\n",
        "url1 = \"https://data.unityimaging.net/files/2020-12-05/png-cache.zip\"\n",
        "url2 = \"https://data.unityimaging.net/files/additional/view_index_20220705.csv\"\n",
        "\n",
        "download_file(url1, extract_to=\"data1\")\n",
        "download_file(url2, extract_to=\"data2\")\n"
      ],
      "metadata": {
        "colab": {
          "base_uri": "https://localhost:8080/"
        },
        "id": "_E_2mhMWYpmL",
        "outputId": "58c14346-3911-43c1-c186-81af66e3f40d"
      },
      "execution_count": null,
      "outputs": [
        {
          "output_type": "stream",
          "name": "stdout",
          "text": [
            "Downloading png-cache.zip...\n",
            "Extracting png-cache.zip...\n",
            "Extracted to data1\n",
            "Downloading view_index_20220705.csv...\n",
            "Saved view_index_20220705.csv\n"
          ]
        }
      ]
    },
    {
      "cell_type": "markdown",
      "source": [
        "Preprocessing"
      ],
      "metadata": {
        "id": "ehNSEloadc49"
      }
    },
    {
      "cell_type": "code",
      "source": [
        "import os\n",
        "import pandas as pd\n",
        "from PIL import Image\n",
        "from tqdm import tqdm\n",
        "\n",
        "root_dir = \"/content/data1/png-cache/01\"   # Unity dataset root\n",
        "csv_file = \"/content/view_index_20220705.csv\"\n",
        "output_dir = \"dataset_cleaned\"\n",
        "os.makedirs(output_dir, exist_ok=True)\n",
        "\n",
        "df = pd.read_csv(csv_file)\n",
        "label_map = dict(zip(df['file'], df['view']))  # adjust if columns differ\n",
        "\n",
        "target_size = (224, 224)\n",
        "\n",
        "for fname, view in tqdm(label_map.items()):\n",
        "    # locate file in nested folders\n",
        "    sub1, sub2 = fname[3:5], fname[5:7]\n",
        "    fpath = os.path.join(root_dir, sub1, sub2, fname)\n",
        "    if not os.path.exists(fpath):\n",
        "        print(f\"missing: {fpath}\")\n",
        "        continue  # skip if file missing\n",
        "\n",
        "    # open\n",
        "    img = Image.open(fpath).convert(\"RGB\")\n",
        "    w, h = img.size\n",
        "\n",
        "    # dynamic crop (50 top/bottom, 100 left/right)\n",
        "    left, top, right, bottom = 100, 50, w-100, h-50\n",
        "    img = img.crop((left, top, right, bottom))\n",
        "\n",
        "    # resize\n",
        "    img = img.resize(target_size)\n",
        "\n",
        "    # save in clean folder\n",
        "    outdir = os.path.join(output_dir, view)\n",
        "    os.makedirs(outdir, exist_ok=True)\n",
        "    img.save(os.path.join(outdir, fname))\n"
      ],
      "metadata": {
        "id": "_zvmaDpqdeGZ"
      },
      "execution_count": null,
      "outputs": []
    },
    {
      "cell_type": "markdown",
      "source": [
        "Splitting the dataset"
      ],
      "metadata": {
        "id": "jGYPb0jSqTxY"
      }
    },
    {
      "cell_type": "code",
      "source": [
        "import os\n",
        "import shutil\n",
        "import random\n",
        "\n",
        "# --- Paths ---\n",
        "dataset_dir = \"dataset_cleaned\"   # current dataset (all images per class)\n",
        "output_dir = \"dataset_split\"      # new split dataset\n",
        "\n",
        "# --- Split ratios ---\n",
        "train_ratio, val_ratio, test_ratio = 0.7, 0.15, 0.15\n",
        "\n",
        "# --- Fix random seed for reproducibility ---\n",
        "random.seed(42)\n",
        "\n",
        "# --- Create output structure ---\n",
        "for split in [\"train\", \"val\", \"test\"]:\n",
        "    for cls in os.listdir(dataset_dir):\n",
        "        os.makedirs(os.path.join(output_dir, split, cls), exist_ok=True)\n",
        "\n",
        "# --- Split images ---\n",
        "for cls in os.listdir(dataset_dir):\n",
        "    class_dir = os.path.join(dataset_dir, cls)\n",
        "    if not os.path.isdir(class_dir):\n",
        "        continue\n",
        "\n",
        "    images = os.listdir(class_dir)\n",
        "    random.shuffle(images)\n",
        "\n",
        "    n_total = len(images)\n",
        "    n_train = int(train_ratio * n_total)\n",
        "    n_val = int(val_ratio * n_total)\n",
        "\n",
        "    train_files = images[:n_train]\n",
        "    val_files = images[n_train:n_train+n_val]\n",
        "    test_files = images[n_train+n_val:]\n",
        "\n",
        "    # Move files\n",
        "    for fname in train_files:\n",
        "        shutil.copy(os.path.join(class_dir, fname), os.path.join(output_dir, \"train\", cls, fname))\n",
        "    for fname in val_files:\n",
        "        shutil.copy(os.path.join(class_dir, fname), os.path.join(output_dir, \"val\", cls, fname))\n",
        "    for fname in test_files:\n",
        "        shutil.copy(os.path.join(class_dir, fname), os.path.join(output_dir, \"test\", cls, fname))\n",
        "\n",
        "    print(f\"{cls}: {n_total} → train={len(train_files)}, val={len(val_files)}, test={len(test_files)}\")\n",
        "\n",
        "print(\"✅ Dataset split completed at:\", output_dir)\n"
      ],
      "metadata": {
        "id": "0gZJfILuqXFy"
      },
      "execution_count": null,
      "outputs": []
    },
    {
      "cell_type": "markdown",
      "source": [
        "# Training and Evaluating"
      ],
      "metadata": {
        "id": "4BVBqok-n2Gk"
      }
    },
    {
      "cell_type": "markdown",
      "source": [
        "Base modules"
      ],
      "metadata": {
        "id": "J4TflNx2n7Jf"
      }
    },
    {
      "cell_type": "code",
      "source": [
        "import tensorflow as tf\n",
        "import os\n",
        "\n",
        "# --- Dataset Loader ---\n",
        "def load_datasets(dataset_dir, img_size=(224,224), batch_size=32):\n",
        "    train_ds = tf.keras.utils.image_dataset_from_directory(\n",
        "        os.path.join(dataset_dir, \"train\"),\n",
        "        image_size=img_size,\n",
        "        batch_size=batch_size\n",
        "    )\n",
        "    val_ds = tf.keras.utils.image_dataset_from_directory(\n",
        "        os.path.join(dataset_dir, \"val\"),\n",
        "        image_size=img_size,\n",
        "        batch_size=batch_size\n",
        "    )\n",
        "    test_ds = tf.keras.utils.image_dataset_from_directory(\n",
        "        os.path.join(dataset_dir, \"test\"),\n",
        "        image_size=img_size,\n",
        "        batch_size=batch_size\n",
        "    )\n",
        "\n",
        "    AUTOTUNE = tf.data.AUTOTUNE\n",
        "    train_ds = train_ds.cache().shuffle(1000).prefetch(buffer_size=AUTOTUNE)\n",
        "    val_ds = val_ds.cache().prefetch(buffer_size=AUTOTUNE)\n",
        "    test_ds = test_ds.cache().prefetch(buffer_size=AUTOTUNE)\n",
        "\n",
        "    return train_ds, val_ds, test_ds, train_ds.class_names\n",
        "\n",
        "\n",
        "# --- Model Builder ---\n",
        "def build_model(base_model_fn, img_size, num_classes, dropout_rate=0.2, learning_rate=1e-4):\n",
        "    base_model = base_model_fn(\n",
        "        input_shape=img_size + (3,),\n",
        "        include_top=False,\n",
        "        weights=\"imagenet\"\n",
        "    )\n",
        "    base_model.trainable = False  # freeze\n",
        "\n",
        "    x = tf.keras.layers.GlobalAveragePooling2D()(base_model.output)\n",
        "    x = tf.keras.layers.Dropout(dropout_rate)(x)\n",
        "    output = tf.keras.layers.Dense(num_classes, activation=\"softmax\")(x)\n",
        "\n",
        "    model = tf.keras.Model(inputs=base_model.input, outputs=output)\n",
        "    model.compile(\n",
        "        optimizer=tf.keras.optimizers.Adam(learning_rate=learning_rate),\n",
        "        loss=\"sparse_categorical_crossentropy\",\n",
        "        metrics=[\"accuracy\"]\n",
        "    )\n",
        "    return model\n",
        "\n",
        "\n",
        "# --- Train + Export Pipeline ---\n",
        "def train_and_export(model_name, base_model_fn, dataset_dir, out_prefix,\n",
        "                     img_size=(224,224), batch_size=32, epochs=10):\n",
        "    print(f\"\\n🔹 Training {model_name}...\")\n",
        "    train_ds, val_ds, test_ds, class_names = load_datasets(dataset_dir, img_size, batch_size)\n",
        "    num_classes = len(class_names)\n",
        "    print(\"Classes:\", class_names)\n",
        "\n",
        "    model = build_model(base_model_fn, img_size, num_classes)\n",
        "\n",
        "    history = model.fit(train_ds, validation_data=val_ds, epochs=epochs)\n",
        "\n",
        "    test_loss, test_acc = model.evaluate(test_ds)\n",
        "    print(f\"✅ {model_name} Test Accuracy: {test_acc:.3f}\")\n",
        "\n",
        "    # Save and export\n",
        "    h5_out = f\"{out_prefix}.h5\"\n",
        "    tflite_out = f\"{out_prefix}.tflite\"\n",
        "    model.save(h5_out)\n",
        "\n",
        "    converter = tf.lite.TFLiteConverter.from_saved_model(h5_out)\n",
        "    tflite_model = converter.convert()\n",
        "    with open(tflite_out, \"wb\") as f:\n",
        "        f.write(tflite_model)\n",
        "\n",
        "    print(f\"✅ {model_name} exported to {tflite_out}\")\n",
        "    return model, history\n"
      ],
      "metadata": {
        "id": "GdLzkPycn6H0"
      },
      "execution_count": null,
      "outputs": []
    },
    {
      "cell_type": "markdown",
      "source": [
        "Various Models"
      ],
      "metadata": {
        "id": "x7Plg0YcsrCm"
      }
    },
    {
      "cell_type": "code",
      "source": [
        "dataset_dir = \"dataset_split\"\n",
        "\n",
        "train_and_export(\"VGG16\", tf.keras.applications.VGG16, dataset_dir, \"vgg16\") # seems to be unnecessary large with low accuracy\n",
        "train_and_export(\"ResNet50\", tf.keras.applications.ResNet50, dataset_dir, \"resnet50\")\n",
        "train_and_export(\"DenseNet121\", tf.keras.applications.DenseNet121, dataset_dir, \"densenet121\")\n",
        "train_and_export(\"MobileNetV2\", tf.keras.applications.MobileNetV2, dataset_dir, \"mobilenetv2\")\n",
        "train_and_export(\"EfficientNetB0\", tf.keras.applications.EfficientNetB0, dataset_dir, \"efficientnetb0\")"
      ],
      "metadata": {
        "id": "JmDRoOUFsuAm"
      },
      "execution_count": null,
      "outputs": []
    }
  ],
  "metadata": {
    "colab": {
      "provenance": []
    },
    "kernelspec": {
      "display_name": "Python 3",
      "name": "python3"
    },
    "language_info": {
      "name": "python"
    },
    "widgets": {
      "application/vnd.jupyter.widget-state+json": {
        "e00374306e5f4062ba1676f193c18101": {
          "model_module": "@jupyter-widgets/controls",
          "model_name": "HBoxModel",
          "model_module_version": "1.5.0",
          "state": {
            "_dom_classes": [],
            "_model_module": "@jupyter-widgets/controls",
            "_model_module_version": "1.5.0",
            "_model_name": "HBoxModel",
            "_view_count": null,
            "_view_module": "@jupyter-widgets/controls",
            "_view_module_version": "1.5.0",
            "_view_name": "HBoxView",
            "box_style": "",
            "children": [
              "IPY_MODEL_818f2ef5354b410e9dd6e0f4d859444d",
              "IPY_MODEL_ac3038c8f00b4b4281a05957ca541eac",
              "IPY_MODEL_921735cfa1984a8396224def7677732b"
            ],
            "layout": "IPY_MODEL_2fb52b167e504906ac5ff0dbc9ae647e"
          }
        },
        "818f2ef5354b410e9dd6e0f4d859444d": {
          "model_module": "@jupyter-widgets/controls",
          "model_name": "HTMLModel",
          "model_module_version": "1.5.0",
          "state": {
            "_dom_classes": [],
            "_model_module": "@jupyter-widgets/controls",
            "_model_module_version": "1.5.0",
            "_model_name": "HTMLModel",
            "_view_count": null,
            "_view_module": "@jupyter-widgets/controls",
            "_view_module_version": "1.5.0",
            "_view_name": "HTMLView",
            "description": "",
            "description_tooltip": null,
            "layout": "IPY_MODEL_b96cfdad73144e558f3a2b025b4487e6",
            "placeholder": "​",
            "style": "IPY_MODEL_17906f5ad3574c9da4e9d0fbee19bd12",
            "value": "metadata.csv: "
          }
        },
        "ac3038c8f00b4b4281a05957ca541eac": {
          "model_module": "@jupyter-widgets/controls",
          "model_name": "FloatProgressModel",
          "model_module_version": "1.5.0",
          "state": {
            "_dom_classes": [],
            "_model_module": "@jupyter-widgets/controls",
            "_model_module_version": "1.5.0",
            "_model_name": "FloatProgressModel",
            "_view_count": null,
            "_view_module": "@jupyter-widgets/controls",
            "_view_module_version": "1.5.0",
            "_view_name": "ProgressView",
            "bar_style": "success",
            "description": "",
            "description_tooltip": null,
            "layout": "IPY_MODEL_3501b75fc738479a8ea5c00b7bdb5b80",
            "max": 1,
            "min": 0,
            "orientation": "horizontal",
            "style": "IPY_MODEL_8da4539d1b6747c7abdaf3f3177bdf5a",
            "value": 1
          }
        },
        "921735cfa1984a8396224def7677732b": {
          "model_module": "@jupyter-widgets/controls",
          "model_name": "HTMLModel",
          "model_module_version": "1.5.0",
          "state": {
            "_dom_classes": [],
            "_model_module": "@jupyter-widgets/controls",
            "_model_module_version": "1.5.0",
            "_model_name": "HTMLModel",
            "_view_count": null,
            "_view_module": "@jupyter-widgets/controls",
            "_view_module_version": "1.5.0",
            "_view_name": "HTMLView",
            "description": "",
            "description_tooltip": null,
            "layout": "IPY_MODEL_a649e8ada3744d959e328da922cc5b57",
            "placeholder": "​",
            "style": "IPY_MODEL_fca2808a1f7b433ca14b2a04abcfc5d0",
            "value": " 1.67M/? [00:00&lt;00:00, 322kB/s]"
          }
        },
        "2fb52b167e504906ac5ff0dbc9ae647e": {
          "model_module": "@jupyter-widgets/base",
          "model_name": "LayoutModel",
          "model_module_version": "1.2.0",
          "state": {
            "_model_module": "@jupyter-widgets/base",
            "_model_module_version": "1.2.0",
            "_model_name": "LayoutModel",
            "_view_count": null,
            "_view_module": "@jupyter-widgets/base",
            "_view_module_version": "1.2.0",
            "_view_name": "LayoutView",
            "align_content": null,
            "align_items": null,
            "align_self": null,
            "border": null,
            "bottom": null,
            "display": null,
            "flex": null,
            "flex_flow": null,
            "grid_area": null,
            "grid_auto_columns": null,
            "grid_auto_flow": null,
            "grid_auto_rows": null,
            "grid_column": null,
            "grid_gap": null,
            "grid_row": null,
            "grid_template_areas": null,
            "grid_template_columns": null,
            "grid_template_rows": null,
            "height": null,
            "justify_content": null,
            "justify_items": null,
            "left": null,
            "margin": null,
            "max_height": null,
            "max_width": null,
            "min_height": null,
            "min_width": null,
            "object_fit": null,
            "object_position": null,
            "order": null,
            "overflow": null,
            "overflow_x": null,
            "overflow_y": null,
            "padding": null,
            "right": null,
            "top": null,
            "visibility": null,
            "width": null
          }
        },
        "b96cfdad73144e558f3a2b025b4487e6": {
          "model_module": "@jupyter-widgets/base",
          "model_name": "LayoutModel",
          "model_module_version": "1.2.0",
          "state": {
            "_model_module": "@jupyter-widgets/base",
            "_model_module_version": "1.2.0",
            "_model_name": "LayoutModel",
            "_view_count": null,
            "_view_module": "@jupyter-widgets/base",
            "_view_module_version": "1.2.0",
            "_view_name": "LayoutView",
            "align_content": null,
            "align_items": null,
            "align_self": null,
            "border": null,
            "bottom": null,
            "display": null,
            "flex": null,
            "flex_flow": null,
            "grid_area": null,
            "grid_auto_columns": null,
            "grid_auto_flow": null,
            "grid_auto_rows": null,
            "grid_column": null,
            "grid_gap": null,
            "grid_row": null,
            "grid_template_areas": null,
            "grid_template_columns": null,
            "grid_template_rows": null,
            "height": null,
            "justify_content": null,
            "justify_items": null,
            "left": null,
            "margin": null,
            "max_height": null,
            "max_width": null,
            "min_height": null,
            "min_width": null,
            "object_fit": null,
            "object_position": null,
            "order": null,
            "overflow": null,
            "overflow_x": null,
            "overflow_y": null,
            "padding": null,
            "right": null,
            "top": null,
            "visibility": null,
            "width": null
          }
        },
        "17906f5ad3574c9da4e9d0fbee19bd12": {
          "model_module": "@jupyter-widgets/controls",
          "model_name": "DescriptionStyleModel",
          "model_module_version": "1.5.0",
          "state": {
            "_model_module": "@jupyter-widgets/controls",
            "_model_module_version": "1.5.0",
            "_model_name": "DescriptionStyleModel",
            "_view_count": null,
            "_view_module": "@jupyter-widgets/base",
            "_view_module_version": "1.2.0",
            "_view_name": "StyleView",
            "description_width": ""
          }
        },
        "3501b75fc738479a8ea5c00b7bdb5b80": {
          "model_module": "@jupyter-widgets/base",
          "model_name": "LayoutModel",
          "model_module_version": "1.2.0",
          "state": {
            "_model_module": "@jupyter-widgets/base",
            "_model_module_version": "1.2.0",
            "_model_name": "LayoutModel",
            "_view_count": null,
            "_view_module": "@jupyter-widgets/base",
            "_view_module_version": "1.2.0",
            "_view_name": "LayoutView",
            "align_content": null,
            "align_items": null,
            "align_self": null,
            "border": null,
            "bottom": null,
            "display": null,
            "flex": null,
            "flex_flow": null,
            "grid_area": null,
            "grid_auto_columns": null,
            "grid_auto_flow": null,
            "grid_auto_rows": null,
            "grid_column": null,
            "grid_gap": null,
            "grid_row": null,
            "grid_template_areas": null,
            "grid_template_columns": null,
            "grid_template_rows": null,
            "height": null,
            "justify_content": null,
            "justify_items": null,
            "left": null,
            "margin": null,
            "max_height": null,
            "max_width": null,
            "min_height": null,
            "min_width": null,
            "object_fit": null,
            "object_position": null,
            "order": null,
            "overflow": null,
            "overflow_x": null,
            "overflow_y": null,
            "padding": null,
            "right": null,
            "top": null,
            "visibility": null,
            "width": "20px"
          }
        },
        "8da4539d1b6747c7abdaf3f3177bdf5a": {
          "model_module": "@jupyter-widgets/controls",
          "model_name": "ProgressStyleModel",
          "model_module_version": "1.5.0",
          "state": {
            "_model_module": "@jupyter-widgets/controls",
            "_model_module_version": "1.5.0",
            "_model_name": "ProgressStyleModel",
            "_view_count": null,
            "_view_module": "@jupyter-widgets/base",
            "_view_module_version": "1.2.0",
            "_view_name": "StyleView",
            "bar_color": null,
            "description_width": ""
          }
        },
        "a649e8ada3744d959e328da922cc5b57": {
          "model_module": "@jupyter-widgets/base",
          "model_name": "LayoutModel",
          "model_module_version": "1.2.0",
          "state": {
            "_model_module": "@jupyter-widgets/base",
            "_model_module_version": "1.2.0",
            "_model_name": "LayoutModel",
            "_view_count": null,
            "_view_module": "@jupyter-widgets/base",
            "_view_module_version": "1.2.0",
            "_view_name": "LayoutView",
            "align_content": null,
            "align_items": null,
            "align_self": null,
            "border": null,
            "bottom": null,
            "display": null,
            "flex": null,
            "flex_flow": null,
            "grid_area": null,
            "grid_auto_columns": null,
            "grid_auto_flow": null,
            "grid_auto_rows": null,
            "grid_column": null,
            "grid_gap": null,
            "grid_row": null,
            "grid_template_areas": null,
            "grid_template_columns": null,
            "grid_template_rows": null,
            "height": null,
            "justify_content": null,
            "justify_items": null,
            "left": null,
            "margin": null,
            "max_height": null,
            "max_width": null,
            "min_height": null,
            "min_width": null,
            "object_fit": null,
            "object_position": null,
            "order": null,
            "overflow": null,
            "overflow_x": null,
            "overflow_y": null,
            "padding": null,
            "right": null,
            "top": null,
            "visibility": null,
            "width": null
          }
        },
        "fca2808a1f7b433ca14b2a04abcfc5d0": {
          "model_module": "@jupyter-widgets/controls",
          "model_name": "DescriptionStyleModel",
          "model_module_version": "1.5.0",
          "state": {
            "_model_module": "@jupyter-widgets/controls",
            "_model_module_version": "1.5.0",
            "_model_name": "DescriptionStyleModel",
            "_view_count": null,
            "_view_module": "@jupyter-widgets/base",
            "_view_module_version": "1.2.0",
            "_view_name": "StyleView",
            "description_width": ""
          }
        },
        "515414ada0494a19b891a5f397222688": {
          "model_module": "@jupyter-widgets/controls",
          "model_name": "HBoxModel",
          "model_module_version": "1.5.0",
          "state": {
            "_dom_classes": [],
            "_model_module": "@jupyter-widgets/controls",
            "_model_module_version": "1.5.0",
            "_model_name": "HBoxModel",
            "_view_count": null,
            "_view_module": "@jupyter-widgets/controls",
            "_view_module_version": "1.5.0",
            "_view_name": "HBoxView",
            "box_style": "",
            "children": [
              "IPY_MODEL_098f8ee3b50542d58fac8f756be6ad31",
              "IPY_MODEL_d9912ff1eb494a39b66cb12b4569803d",
              "IPY_MODEL_920ee6e8523941438eb7355762558063"
            ],
            "layout": "IPY_MODEL_ecc17fb989b34332a419af8d4ee4f87b"
          }
        },
        "098f8ee3b50542d58fac8f756be6ad31": {
          "model_module": "@jupyter-widgets/controls",
          "model_name": "HTMLModel",
          "model_module_version": "1.5.0",
          "state": {
            "_dom_classes": [],
            "_model_module": "@jupyter-widgets/controls",
            "_model_module_version": "1.5.0",
            "_model_name": "HTMLModel",
            "_view_count": null,
            "_view_module": "@jupyter-widgets/controls",
            "_view_module_version": "1.5.0",
            "_view_name": "HTMLView",
            "description": "",
            "description_tooltip": null,
            "layout": "IPY_MODEL_ca09c4e6625647b28fb2f1faafd38734",
            "placeholder": "​",
            "style": "IPY_MODEL_63de29499a2a4af1988dbd412c588404",
            "value": "Generating train split: 100%"
          }
        },
        "d9912ff1eb494a39b66cb12b4569803d": {
          "model_module": "@jupyter-widgets/controls",
          "model_name": "FloatProgressModel",
          "model_module_version": "1.5.0",
          "state": {
            "_dom_classes": [],
            "_model_module": "@jupyter-widgets/controls",
            "_model_module_version": "1.5.0",
            "_model_name": "FloatProgressModel",
            "_view_count": null,
            "_view_module": "@jupyter-widgets/controls",
            "_view_module_version": "1.5.0",
            "_view_name": "ProgressView",
            "bar_style": "success",
            "description": "",
            "description_tooltip": null,
            "layout": "IPY_MODEL_6446605c814c4333a904ef9818e0771b",
            "max": 22183,
            "min": 0,
            "orientation": "horizontal",
            "style": "IPY_MODEL_e577972953514eb486735683f17de8f1",
            "value": 22183
          }
        },
        "920ee6e8523941438eb7355762558063": {
          "model_module": "@jupyter-widgets/controls",
          "model_name": "HTMLModel",
          "model_module_version": "1.5.0",
          "state": {
            "_dom_classes": [],
            "_model_module": "@jupyter-widgets/controls",
            "_model_module_version": "1.5.0",
            "_model_name": "HTMLModel",
            "_view_count": null,
            "_view_module": "@jupyter-widgets/controls",
            "_view_module_version": "1.5.0",
            "_view_name": "HTMLView",
            "description": "",
            "description_tooltip": null,
            "layout": "IPY_MODEL_c25ab87d5d134060b35af1cc1e56cd5d",
            "placeholder": "​",
            "style": "IPY_MODEL_7832ee015ac54373b02d16515039abdd",
            "value": " 22183/22183 [00:00&lt;00:00, 54481.67 examples/s]"
          }
        },
        "ecc17fb989b34332a419af8d4ee4f87b": {
          "model_module": "@jupyter-widgets/base",
          "model_name": "LayoutModel",
          "model_module_version": "1.2.0",
          "state": {
            "_model_module": "@jupyter-widgets/base",
            "_model_module_version": "1.2.0",
            "_model_name": "LayoutModel",
            "_view_count": null,
            "_view_module": "@jupyter-widgets/base",
            "_view_module_version": "1.2.0",
            "_view_name": "LayoutView",
            "align_content": null,
            "align_items": null,
            "align_self": null,
            "border": null,
            "bottom": null,
            "display": null,
            "flex": null,
            "flex_flow": null,
            "grid_area": null,
            "grid_auto_columns": null,
            "grid_auto_flow": null,
            "grid_auto_rows": null,
            "grid_column": null,
            "grid_gap": null,
            "grid_row": null,
            "grid_template_areas": null,
            "grid_template_columns": null,
            "grid_template_rows": null,
            "height": null,
            "justify_content": null,
            "justify_items": null,
            "left": null,
            "margin": null,
            "max_height": null,
            "max_width": null,
            "min_height": null,
            "min_width": null,
            "object_fit": null,
            "object_position": null,
            "order": null,
            "overflow": null,
            "overflow_x": null,
            "overflow_y": null,
            "padding": null,
            "right": null,
            "top": null,
            "visibility": null,
            "width": null
          }
        },
        "ca09c4e6625647b28fb2f1faafd38734": {
          "model_module": "@jupyter-widgets/base",
          "model_name": "LayoutModel",
          "model_module_version": "1.2.0",
          "state": {
            "_model_module": "@jupyter-widgets/base",
            "_model_module_version": "1.2.0",
            "_model_name": "LayoutModel",
            "_view_count": null,
            "_view_module": "@jupyter-widgets/base",
            "_view_module_version": "1.2.0",
            "_view_name": "LayoutView",
            "align_content": null,
            "align_items": null,
            "align_self": null,
            "border": null,
            "bottom": null,
            "display": null,
            "flex": null,
            "flex_flow": null,
            "grid_area": null,
            "grid_auto_columns": null,
            "grid_auto_flow": null,
            "grid_auto_rows": null,
            "grid_column": null,
            "grid_gap": null,
            "grid_row": null,
            "grid_template_areas": null,
            "grid_template_columns": null,
            "grid_template_rows": null,
            "height": null,
            "justify_content": null,
            "justify_items": null,
            "left": null,
            "margin": null,
            "max_height": null,
            "max_width": null,
            "min_height": null,
            "min_width": null,
            "object_fit": null,
            "object_position": null,
            "order": null,
            "overflow": null,
            "overflow_x": null,
            "overflow_y": null,
            "padding": null,
            "right": null,
            "top": null,
            "visibility": null,
            "width": null
          }
        },
        "63de29499a2a4af1988dbd412c588404": {
          "model_module": "@jupyter-widgets/controls",
          "model_name": "DescriptionStyleModel",
          "model_module_version": "1.5.0",
          "state": {
            "_model_module": "@jupyter-widgets/controls",
            "_model_module_version": "1.5.0",
            "_model_name": "DescriptionStyleModel",
            "_view_count": null,
            "_view_module": "@jupyter-widgets/base",
            "_view_module_version": "1.2.0",
            "_view_name": "StyleView",
            "description_width": ""
          }
        },
        "6446605c814c4333a904ef9818e0771b": {
          "model_module": "@jupyter-widgets/base",
          "model_name": "LayoutModel",
          "model_module_version": "1.2.0",
          "state": {
            "_model_module": "@jupyter-widgets/base",
            "_model_module_version": "1.2.0",
            "_model_name": "LayoutModel",
            "_view_count": null,
            "_view_module": "@jupyter-widgets/base",
            "_view_module_version": "1.2.0",
            "_view_name": "LayoutView",
            "align_content": null,
            "align_items": null,
            "align_self": null,
            "border": null,
            "bottom": null,
            "display": null,
            "flex": null,
            "flex_flow": null,
            "grid_area": null,
            "grid_auto_columns": null,
            "grid_auto_flow": null,
            "grid_auto_rows": null,
            "grid_column": null,
            "grid_gap": null,
            "grid_row": null,
            "grid_template_areas": null,
            "grid_template_columns": null,
            "grid_template_rows": null,
            "height": null,
            "justify_content": null,
            "justify_items": null,
            "left": null,
            "margin": null,
            "max_height": null,
            "max_width": null,
            "min_height": null,
            "min_width": null,
            "object_fit": null,
            "object_position": null,
            "order": null,
            "overflow": null,
            "overflow_x": null,
            "overflow_y": null,
            "padding": null,
            "right": null,
            "top": null,
            "visibility": null,
            "width": null
          }
        },
        "e577972953514eb486735683f17de8f1": {
          "model_module": "@jupyter-widgets/controls",
          "model_name": "ProgressStyleModel",
          "model_module_version": "1.5.0",
          "state": {
            "_model_module": "@jupyter-widgets/controls",
            "_model_module_version": "1.5.0",
            "_model_name": "ProgressStyleModel",
            "_view_count": null,
            "_view_module": "@jupyter-widgets/base",
            "_view_module_version": "1.2.0",
            "_view_name": "StyleView",
            "bar_color": null,
            "description_width": ""
          }
        },
        "c25ab87d5d134060b35af1cc1e56cd5d": {
          "model_module": "@jupyter-widgets/base",
          "model_name": "LayoutModel",
          "model_module_version": "1.2.0",
          "state": {
            "_model_module": "@jupyter-widgets/base",
            "_model_module_version": "1.2.0",
            "_model_name": "LayoutModel",
            "_view_count": null,
            "_view_module": "@jupyter-widgets/base",
            "_view_module_version": "1.2.0",
            "_view_name": "LayoutView",
            "align_content": null,
            "align_items": null,
            "align_self": null,
            "border": null,
            "bottom": null,
            "display": null,
            "flex": null,
            "flex_flow": null,
            "grid_area": null,
            "grid_auto_columns": null,
            "grid_auto_flow": null,
            "grid_auto_rows": null,
            "grid_column": null,
            "grid_gap": null,
            "grid_row": null,
            "grid_template_areas": null,
            "grid_template_columns": null,
            "grid_template_rows": null,
            "height": null,
            "justify_content": null,
            "justify_items": null,
            "left": null,
            "margin": null,
            "max_height": null,
            "max_width": null,
            "min_height": null,
            "min_width": null,
            "object_fit": null,
            "object_position": null,
            "order": null,
            "overflow": null,
            "overflow_x": null,
            "overflow_y": null,
            "padding": null,
            "right": null,
            "top": null,
            "visibility": null,
            "width": null
          }
        },
        "7832ee015ac54373b02d16515039abdd": {
          "model_module": "@jupyter-widgets/controls",
          "model_name": "DescriptionStyleModel",
          "model_module_version": "1.5.0",
          "state": {
            "_model_module": "@jupyter-widgets/controls",
            "_model_module_version": "1.5.0",
            "_model_name": "DescriptionStyleModel",
            "_view_count": null,
            "_view_module": "@jupyter-widgets/base",
            "_view_module_version": "1.2.0",
            "_view_name": "StyleView",
            "description_width": ""
          }
        }
      }
    }
  },
  "nbformat": 4,
  "nbformat_minor": 0
}